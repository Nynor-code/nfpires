{
  "cells": [
    {
      "cell_type": "markdown",
      "metadata": {
        "slideshow": {
          "slide_type": "slide"
        }
      },
      "source": [
        "## Bias in Movie Ratings"
      ]
    },
    {
      "cell_type": "markdown",
      "metadata": {},
      "source": [
        "Watching movies is one of the most popular pasttimes today.\n",
        "\t\t\t\t\t\t\t\tThere are so many movies being released for streaming every year, and it is impossible to keep up with all of them.\n",
        "\t\t\t\t\t\t\t\tWhen someone is looking for a new movie to watch, he/she will often turn to movie-related sites,\n",
        "\t\t\t\t\t\t\t\tlike IMDB or rotten tomatoes, which aggregate ratings, reviews, and other information about movies.\n",
        "\t\t\t\t\t\t\t\tOne of the most important factors influencing one's decision to watch a movie is the overall rating.\n",
        "\t\t\t\t\t\t\t\tHowever, does the rating reasonably represent the entire population's opinion of the movie?"
      ]
    },
    {
      "cell_type": "markdown",
      "metadata": {},
      "source": [
        "To address this question, I will use the enormous MovieLens data sets (http://movielens.org),\n",
        "\t\t\t\t\t\t\t\twhich is collected by GroupLens Research (https://grouplens.org/datasets/movielens/).\n",
        "\t\t\t\t\t\t\t\tThis dataset consists of more than 26 million ratings of approximately 45,000 movies,\n",
        "\t\t\t\t\t\t\t\twith around 270,000 users."
      ]
    },
    {
      "cell_type": "markdown",
      "metadata": {},
      "source": [
        "## Take a look at the distribution of movie release years by genre"
      ]
    },
    {
      "cell_type": "markdown",
      "metadata": {},
      "source": [
        "Drama and Comedy films clearly vastly outnumber all the other genres! The plot above only demonstrates\n",
        "\t\t\t\t\t\t\t\tthe relative popularity of different genres over time."
      ]
    },
    {
      "cell_type": "markdown",
      "metadata": {},
      "source": [
        "## Next, examine the relative popularity of each genre overall"
      ]
    },
    {
      "cell_type": "markdown",
      "metadata": {},
      "source": [
        "The above bar-plot shows the total number of movies for each genre. Drama and Comedy\n",
        "\t\t\t\t\t\t\t\tare the most dominant genres, which means that many people like watching movies of these genres,\n",
        "\t\t\t\t\t\t\t\tand so it is likely that producers try to make these types of films more frequently. Note that\n",
        "\t\t\t\t\t\t\t\tthe total number of movies in the figure above is greater than the previous\n",
        "\t\t\t\t\t\t\t\tmovie distribution plot because movies are counted multiple times if they have multiple genres. "
      ]
    },
    {
      "cell_type": "markdown",
      "metadata": {},
      "source": [
        "The above table shows the combined datasets when I merge the movie table with the users and their ratings.\n",
        "\t\t\t\t\t\t\t\t\tNow, it is possible to track users behavior in their ratings. So, one way I could explore potential bias in\n",
        "\t\t\t\t\t\t\t\t\t a user's ratings is to assess whether a fan of a certain genre will rate movies of that genre higher/lower\n",
        "\t\t\t\t\t\t\t\t\t than the general public.\n",
        "\t\t\t\t\t\t\t\t\t First we need to define what is a fan of a genre. "
      ]
    },
    {
      "cell_type": "markdown",
      "metadata": {},
      "source": [
        "## How can we define a group of fans for each genre?"
      ]
    },
    {
      "cell_type": "markdown",
      "metadata": {},
      "source": [
        "Selecting the fans for each genre is a tough mission. In this project,\n",
        "\t\t\t\t\t\t\t\t\t\tI define fans for each genre as people who reviewed the specific genre more\n",
        "\t\t\t\t\t\t\t\t\t\tfrequently compared to movies of other genres. For example, considering a person\n",
        "\t\t\t\t\t\t\t\t\t\t(person A) reviewed 1,000 movies in the dataset, and person A reviewed 300 SciFi movies out of\n",
        "\t\t\t\t\t\t\t\t\t\tthe 1,000 they reviewed. I would consider person A to be a fan of SciFi (For the average person,\n",
        "\t\t\t\t\t\t\t\t\t\tSciFi movies only account for 6% of the movies they rated). I will explain in detail in the charts below."
      ]
    },
    {
      "cell_type": "markdown",
      "metadata": {},
      "source": [
        "The pie chart above is an example of two people's genre distributions for all the movies they rated.\n",
        "\t\t\t\t\t\t\t\t\t\t\tThe reason why Drama and Comedy are more dominant than other genres is because there are many movies\n",
        "\t\t\t\t\t\t\t\t\t\t\tin these genres. The high fraction for drama and comedy does not neccesarily mean that they are fans\n",
        "\t\t\t\t\t\t\t\t\t\t\tof Drama or Comedy, but might simply reflect the fact that these genres are so prevalent. The charts\n",
        "\t\t\t\t\t\t\t\t\t\t\t above are pretty typical of an average users voting habits in the MovieLens database."
      ]
    },
    {
      "cell_type": "markdown",
      "metadata": {},
      "source": [
        "Now, let's look at a few outliers. The chart below shows the rating distributions for people who appear to be fans of Horror movies."
      ]
    },
    {
      "cell_type": "markdown",
      "metadata": {},
      "source": [
        "Note that the UNUSUAL Horror fans rated far fewer movies than typical users in my samples.\n",
        "\t\t\t\t\t\t\t\t\t\t\t\t As seen in the chart above, the distribution is very different from the previous plots.\n",
        "\t\t\t\t\t\t\t\t\t\t\t\tIn the case of these people, I will consider them to be fans of horror movies."
      ]
    },
    {
      "cell_type": "markdown",
      "metadata": {},
      "source": [
        "I selected fans of each genre following the steps below:"
      ]
    },
    {
      "cell_type": "markdown",
      "metadata": {},
      "source": [
        "- Start by looking at the relative fraction of ratings by genre for the overall population.\n",
        "\t\t\t\t\t\t\t\t\t\t\t\t\t\tThen, it stands to reason that someone who is a fan of a certain genre, and who watches a\n",
        "\t\t\t\t\t\t\t\t\t\t\t\t\t\tdisproportionately large fraction of movies in that genre,\n",
        "\t\t\t\t\t\t\t\t\t\t\t\t\t\twould rate movies in that genre more frequently than the average person does.\n",
        "- Look for outliers who rated movies of that genre at a much higher frequency than the overall population."
      ]
    },
    {
      "cell_type": "markdown",
      "metadata": {},
      "source": [
        "The box-plot below shows the typical range of percentages of certain genres that users reviewed."
      ]
    },
    {
      "cell_type": "markdown",
      "metadata": {},
      "source": [
        "The colored boxes in the box-plot above highlight the 25%-75% range of the distribution for each genre\n",
        "\t\t\t\t\t\t\t\t\t\t\t\t that people reviewed. The upper whiskers corresponds to the top 1% of the distribution.\n",
        "\t\t\t\t\t\t\t\t\t\t\t\t Based on this information, I consider a fan to be a person who is identified as an outlier\n",
        "\t\t\t\t\t\t\t\t\t\t\t\t above the upper whiskers for each genre. For example, if someone has rated drama movies at more than 35%,\n",
        "\t\t\t\t\t\t\t\t\t\t\t\t I would define this person as a fan of drama (Look at the box graph for drama). Therefore, I chose 500 people\n",
        "\t\t\t\t\t\t\t\t\t\t\t\t(1% of total sample of 50,000) for each genre as the group of fans for that genre."
      ]
    },
    {
      "cell_type": "markdown",
      "metadata": {},
      "source": [
        "The figure listes Top 30 Action movies, ordered by the difference between\n",
        "\t\t\t\t\t\t\t\t\tfans' average ratings and non-fans' average ratings. The figure shows that\n",
        "\t\t\t\t\t\t\t\t\tmost of TOP 30 movies has higher ratings from the fans of the genre.\n",
        "\t\t\t\t\t\t\t\t\tHowever, there are some exceptions, which are not popular from the fans. "
      ]
    },
    {
      "cell_type": "markdown",
      "metadata": {},
      "source": [
        "##  Let's examine any correlations between the ratings of different genres"
      ]
    },
    {
      "cell_type": "markdown",
      "metadata": {},
      "source": [
        "The correlation matrix heatmap above reveals some fundamental characteristics of\n",
        "\t\t\t\tmovies and user preferences that are worth explaining, namely:"
      ]
    },
    {
      "cell_type": "markdown",
      "metadata": {},
      "source": [
        "- Action & Adventure\n",
        "- Action & SciFi\n",
        "- Animation & Children\n",
        "- Animation & Fantasy\n",
        "- Adventure & Fantasy\n",
        "- Children & Fantasy"
      ]
    },
    {
      "cell_type": "markdown",
      "metadata": {},
      "source": [
        "- Action & Drama\n",
        "- Action & Romance\n",
        "- Adventure & Drama\n",
        "- Children & Crime\n",
        "- Musical & Thriller"
      ]
    },
    {
      "cell_type": "markdown",
      "metadata": {},
      "source": [
        "##  Let's examine the genre preferences in a more quantitative statistical way, using Principal Component Analysis (PCA)\n",
        "\n",
        "\t\t\t\tI take the matrix of users (rows) and number of reviews by genre (columns) and perform a\n",
        "\t\t\t\tdecomposition of that matrix into the sum of eigenvectors times corresponding eigenvalues.\n",
        "\t\t\t\tThis has the effect of re-casting the matrix into a set of orthogonal axes, and when I sort\n",
        "\t\t\t\tthose eigenmodes from the largest (absolute value) eigenvalue to smallest, the first couple of\n",
        "\t\t\t\teigenmodes each correspond to the axes along which we find the greatest variance in our data.\n",
        "\t\t\t\tThe result, plotted blow for the top two eigenmodes, shows how each of them naturally\n",
        "\t\t\t\tcorresponds to some of the most fundamental divides between user preferences\n",
        "\t\t\t\tin genres (where we see weights of some genres having similar or opposing signs)\n",
        "\n",
        "\n",
        "\n",
        "The upper-left of the figure above corresponds to strong weights for Action,\n",
        "\t\t\t\tAdventure, Fantasy, and SciFi, while the lower-left features the strongest weights for\n",
        "\t\t\t\tDrama and Romance.\n",
        "\t\t\t\tThis dichotomy represents the most significant single divide in the user movie preferences,\n",
        "\t\t\t\t and it's surely one of the most obvious broad divides between types of films.\n",
        "\n",
        "        The upper-right is dominated by Children, Musical, Animation, and Romance while the lower-right\n",
        "\t\t\t is Thriller, Crime, Action, and Mystery. This second dimension apparently separates light-hearted\n",
        "\t\t\t  films aimed at children from more gritty, often violent movies geared towards adults.\n",
        "\n",
        "\n",
        "\n",
        "\n",
        "\t\t\tThe figures above show the preference for each group. The y-axis is median values of fractions of rating\n",
        "\t\t\tas a function of genre for each group. As you can see, Group 1 has higher fractions for Crime, Thriller, and Mystery\n",
        "\t\t\twhile Group 2 has higher fractions for Action, Adventure and SciFi.\n",
        "\t\t\tOn ther other hand, Group 5 has higher fractions for Adventure, Animation, Children and Fantasy.\n",
        "\t\t\tAt the same time, Group3 prefer Comedy, Drama, Romance, Musical while Group 6 prefer Documentary, Drama, FilmNoir.\n",
        "\t\t\tGroup4 has no preference. This means categorizing by only one genre is difficult to figure out people's exact\n",
        "\t\t\tpreference. For example, people in Group 2 like Adventure movie, but they prefer more Adult-style(?) adventure\n",
        "\t\t\tcomparing to Group 5 people who prefer Animation, Children and Fantasy.\n",
        "\t\t\tIsn't it interesting?\n",
        "\n",
        "\t\t\tFinally, I checked the average ratings for each group about several different movies like below:\n",
        "\n",
        "\t\t\t\n",
        "\n",
        "\n",
        "These two dramas above demonstrate the really broad range of films that can be called drama.\n",
        "\tTitanic is much more of a\n",
        "\tRomance & Adventure Drama, while Fargo is focused on a Criminal Investigation.\n",
        "\n",
        "\n",
        "\n",
        "The Silence of the Lambs is a Thriller which has strong Horror and Criminal elements,\n",
        "\twhich is why it is preferred by G1 and G6 in particular.\n",
        "Meanwhile, Die Hard is primarily an Action Thriller that is well-liked by G2.\n",
        "\n",
        "\n",
        "\n",
        "In the Adventure genre, there is a very wide range of films that span from light-hearted\n",
        "\tmovies for Children,\n",
        "\tlike Aladdin, to much darker and Action-packed films like Aliens.\n",
        "\n",
        "\n",
        "\n",
        "In Musicals, there is likewise a split between the films intended for adults, like Chicago,\n",
        "\tand those geared towards children, like the Lion King.\n",
        "Conclusions\n",
        "I have examined the ratings that people give to movies, and how those ratings might be biased by people's preferences for certain kinds of movies. It is clear that distinct biases exist based on one's movie preferences. To study these biases more quantitatively, I first used a simple approach that treated each genre independent of each other, but I also clearly found evidence of strong correlations\n",
        "(and anti-correlations) between some genres. So a more rigorous approach was taken to\n",
        "study user preferences which allowed for the inherent correlations between genres to be\n",
        " included by using PCA.\n",
        "\n",
        "The PCA analysis reduced the available features to just two dimensions, corresponding to\n",
        "the two most significant eigenmodes that contribute to the variance in the data. From these\n",
        "two dimensions, I selected six distinct clusters using the unsupervised learning algorithm called\n",
        "KMeans clustering. After checking the different ratings given by users in these six clusters,\n",
        "a pattern emerges that reveals some of the most fundamental divides in movie preferences. \n"
      ]
    },
    {
      "cell_type": "markdown",
      "metadata": {},
      "source": [
        "\n",
        "\t\t\t\tI take the matrix of users (rows) and number of reviews by genre (columns) and perform a\n",
        "\t\t\t\tdecomposition of that matrix into the sum of eigenvectors times corresponding eigenvalues.\n",
        "\t\t\t\tThis has the effect of re-casting the matrix into a set of orthogonal axes, and when I sort\n",
        "\t\t\t\tthose eigenmodes from the largest (absolute value) eigenvalue to smallest, the first couple of\n",
        "\t\t\t\teigenmodes each correspond to the axes along which we find the greatest variance in our data.\n",
        "\t\t\t\tThe result, plotted blow for the top two eigenmodes, shows how each of them naturally\n",
        "\t\t\t\tcorresponds to some of the most fundamental divides between user preferences\n",
        "\t\t\t\tin genres (where we see weights of some genres having similar or opposing signs)"
      ]
    },
    {
      "cell_type": "markdown",
      "metadata": {},
      "source": [
        "The upper-left of the figure above corresponds to strong weights for Action,\n",
        "\t\t\t\tAdventure, Fantasy, and SciFi, while the lower-left features the strongest weights for\n",
        "\t\t\t\tDrama and Romance.\n",
        "\t\t\t\tThis dichotomy represents the most significant single divide in the user movie preferences,\n",
        "\t\t\t\t and it's surely one of the most obvious broad divides between types of films.\n",
        "\n",
        "        The upper-right is dominated by Children, Musical, Animation, and Romance while the lower-right\n",
        "\t\t\t is Thriller, Crime, Action, and Mystery. This second dimension apparently separates light-hearted\n",
        "\t\t\t  films aimed at children from more gritty, often violent movies geared towards adults."
      ]
    },
    {
      "cell_type": "markdown",
      "metadata": {},
      "source": [
        "These two dramas above demonstrate the really broad range of films that can be called drama.\n",
        "\tTitanic is much more of a\n",
        "\tRomance & Adventure Drama, while Fargo is focused on a Criminal Investigation."
      ]
    },
    {
      "cell_type": "markdown",
      "metadata": {},
      "source": [
        "The Silence of the Lambs is a Thriller which has strong Horror and Criminal elements,\n",
        "\twhich is why it is preferred by G1 and G6 in particular.\n",
        "Meanwhile, Die Hard is primarily an Action Thriller that is well-liked by G2."
      ]
    },
    {
      "cell_type": "markdown",
      "metadata": {},
      "source": [
        "In the Adventure genre, there is a very wide range of films that span from light-hearted\n",
        "\tmovies for Children,\n",
        "\tlike Aladdin, to much darker and Action-packed films like Aliens."
      ]
    },
    {
      "cell_type": "markdown",
      "metadata": {},
      "source": [
        "In Musicals, there is likewise a split between the films intended for adults, like Chicago,\n",
        "\tand those geared towards children, like the Lion King."
      ]
    },
    {
      "cell_type": "markdown",
      "metadata": {},
      "source": [
        "## Conclusions"
      ]
    },
    {
      "cell_type": "markdown",
      "metadata": {},
      "source": [
        "I have examined the ratings that people give to movies, and how those ratings might be biased by people's preferences for certain kinds of movies. It is clear that distinct biases exist based on one's movie preferences. To study these biases more quantitatively, I first used a simple approach that treated each genre independent of each other, but I also clearly found evidence of strong correlations\n",
        "(and anti-correlations) between some genres. So a more rigorous approach was taken to\n",
        "study user preferences which allowed for the inherent correlations between genres to be\n",
        " included by using PCA.\n",
        "\n",
        "The PCA analysis reduced the available features to just two dimensions, corresponding to\n",
        "the two most significant eigenmodes that contribute to the variance in the data. From these\n",
        "two dimensions, I selected six distinct clusters using the unsupervised learning algorithm called\n",
        "KMeans clustering. After checking the different ratings given by users in these six clusters,\n",
        "a pattern emerges that reveals some of the most fundamental divides in movie preferences. "
      ]
    }
  ],
  "metadata": {
    "language_info": {
      "name": "python"
    }
  },
  "nbformat": 4,
  "nbformat_minor": 4
}
