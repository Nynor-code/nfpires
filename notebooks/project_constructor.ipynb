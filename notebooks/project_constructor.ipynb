{
 "cells": [
  {
   "cell_type": "code",
   "execution_count": 2,
   "metadata": {},
   "outputs": [
    {
     "data": {
      "text/plain": [
       "'./project2.ipynb'"
      ]
     },
     "execution_count": 2,
     "metadata": {},
     "output_type": "execute_result"
    }
   ],
   "source": [
    "from bs4 import BeautifulSoup\n",
    "import json\n",
    "\n",
    "# Load the HTML file\n",
    "html_path = \"../project2.html\"\n",
    "with open(html_path, \"r\", encoding=\"utf-8\") as f:\n",
    "    html_content = f.read()\n",
    "\n",
    "# Parse HTML with BeautifulSoup\n",
    "soup = BeautifulSoup(html_content, \"html.parser\")\n",
    "\n",
    "# Extract the title\n",
    "title = soup.title.string if soup.title else \"Converted Notebook\"\n",
    "\n",
    "# Extract all text content while maintaining structure\n",
    "sections = []\n",
    "for tag in soup.find_all([\"h1\", \"h2\", \"h3\", \"h4\", \"p\", \"ul\", \"ol\", \"li\", \"pre\", \"code\"]):\n",
    "    if tag.name in [\"h1\", \"h2\", \"h3\"]:\n",
    "        sections.append({\"cell_type\": \"markdown\", \"source\": f\"## {tag.get_text()}\"})\n",
    "    elif tag.name == \"p\":\n",
    "        sections.append({\"cell_type\": \"markdown\", \"source\": tag.get_text()})\n",
    "    elif tag.name in [\"ul\", \"ol\"]:\n",
    "        items = \"\\n\".join([f\"- {li.get_text()}\" for li in tag.find_all(\"li\")])\n",
    "        sections.append({\"cell_type\": \"markdown\", \"source\": items})\n",
    "    elif tag.name == \"pre\":\n",
    "        code_block = tag.get_text()\n",
    "        sections.append({\"cell_type\": \"code\", \"source\": code_block})\n",
    "\n",
    "# Create Jupyter notebook structure\n",
    "notebook = {\n",
    "    \"cells\": sections,\n",
    "    \"metadata\": {},\n",
    "    \"nbformat\": 4,\n",
    "    \"nbformat_minor\": 4\n",
    "}\n",
    "\n",
    "# Save to .ipynb file\n",
    "ipynb_path = \"./project2.ipynb\"\n",
    "with open(ipynb_path, \"w\", encoding=\"utf-8\") as f:\n",
    "    json.dump(notebook, f, indent=2)\n",
    "\n",
    "ipynb_path\n"
   ]
  }
 ],
 "metadata": {
  "kernelspec": {
   "display_name": "lewagon",
   "language": "python",
   "name": "python3"
  },
  "language_info": {
   "codemirror_mode": {
    "name": "ipython",
    "version": 3
   },
   "file_extension": ".py",
   "mimetype": "text/x-python",
   "name": "python",
   "nbconvert_exporter": "python",
   "pygments_lexer": "ipython3",
   "version": "3.10.6"
  }
 },
 "nbformat": 4,
 "nbformat_minor": 2
}
